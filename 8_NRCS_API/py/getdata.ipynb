{
 "cells": [
  {
   "cell_type": "code",
   "execution_count": 1,
   "metadata": {},
   "outputs": [],
   "source": [
    "# -*- coding: utf-8 -*-\n",
    "\"\"\"\n",
    "Date: 6/26/2019\n",
    "Author: https://github.com/batimusprime\n",
    "Project: NRCS API\n",
    "Overview: Web scraper to download snow reports from NRCS site\n",
    "Note: Site_list has been commented out to 2 entries to support development\n",
    "\n",
    "\"\"\"\n",
    "\n",
    "from bs4 import BeautifulSoup\n",
    "from urllib.request import urlopen\n",
    "from site_list import site_list\n",
    "\n",
    "import datetime\n",
    "import time\n",
    "\n",
    "\n",
    "#create datetime object for later use\n",
    "now = datetime.datetime.now()\n",
    "\n",
    "#create empty list of uri\n",
    "uri_list = []\n",
    "\n",
    "#create and write to log\n",
    "log = open('../logs/log_' + now.strftime('%Y_%m_%d') + '.txt','a')\n",
    "log.write('######\\n# Retrieve operation started: ' + now.strftime('%Y-%m-%d %H:%M:%S') + '\\n')\n",
    "\n",
    "#for every site, create a uri\n",
    "for site in site_list:\n",
    "    \n",
    "    #create useable uri, add to list\n",
    "    uri_list.append('https://wcc.sc.egov.usda.gov/reportGenerator/view_csv/customGroupByMonthReport/monthly/'+ site + ':CA:SNOW%7Cid=%22%22%7Cname/POR_BEGIN,POR_END:1,2,3,4,5,6/WTEQ::collectionDate,SNWD::value,WTEQ::value')\n",
    "    \n",
    "    #this will run 289 server requests so be careful!!\n",
    "    #for each uri in the list perform page request, save to file\n",
    "    for uri in uri_list:\n",
    "\n",
    "\n",
    "        #page request\n",
    "        page = urlopen(uri)\n",
    "        \n",
    "        #change sleep=60 so as not to ddos / get kicked off server\n",
    "        time.sleep(1)\n",
    "        \n",
    "        #create BS object\n",
    "        soup = BeautifulSoup(page, 'html.parser')\n",
    "        \n",
    "        #write data to file\n",
    "        p = ('../data/' + site + '.csv')\n",
    "        f = open(p,'w+');\n",
    "        f.write(soup.text)\n",
    "        f.close();\n",
    "        \n",
    "#write status to log        \n",
    "log.write('# Retrieve operation ended: ' + now.strftime('%Y-%m-%d %H:%M:%S') + '\\n')\n",
    "log.write(\"# Number of operations: \" + str(len(uri_list)) + '\\n')\n",
    "log.write('######\\n')\n",
    "log.close()"
   ]
  },
  {
   "cell_type": "code",
   "execution_count": null,
   "metadata": {},
   "outputs": [],
   "source": []
  }
 ],
 "metadata": {
  "kernelspec": {
   "display_name": "Python 3",
   "language": "python",
   "name": "python3"
  },
  "language_info": {
   "codemirror_mode": {
    "name": "ipython",
    "version": 3
   },
   "file_extension": ".py",
   "mimetype": "text/x-python",
   "name": "python",
   "nbconvert_exporter": "python",
   "pygments_lexer": "ipython3",
   "version": "3.6.4"
  }
 },
 "nbformat": 4,
 "nbformat_minor": 2
}
